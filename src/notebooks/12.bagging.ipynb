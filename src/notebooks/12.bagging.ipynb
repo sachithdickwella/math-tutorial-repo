{
 "cells": [
  {
   "cell_type": "code",
   "execution_count": null,
   "metadata": {},
   "outputs": [],
   "source": []
  },
  {
   "attachments": {},
   "cell_type": "markdown",
   "metadata": {},
   "source": [
    "# Different Ensemble Methods\n",
    "\n",
    "- Bagging (Bootstrap Aggregation)\n",
    "- Stacking\n",
    "- Boosting\n",
    "\n",
    "\n",
    "# Boostrap Bagging\n",
    "\n",
    "Methods such as Decision Trees, can be prone to overfitting on the training set which can lead to wrong predictions on new data.\n",
    "\n",
    "Bootstrap Aggregation (bagging) is a ensembling method that attempts to resolve overfitting for classification or regression problems. Bagging aims to improve the accuracy and performance of machine learning algorithms. It does this by taking random subsets of an original dataset, with replacement, and fits either a classifier (for classification) or regressor (for regression) to each subset. The predictions for each subset are then aggregated through majority vote for classification or averaging for regression, increasing prediction accuracy."
   ]
  },
  {
   "cell_type": "code",
   "execution_count": null,
   "metadata": {},
   "outputs": [],
   "source": []
  }
 ],
 "metadata": {
  "kernelspec": {
   "display_name": "Python 3",
   "language": "python",
   "name": "python3"
  },
  "language_info": {
   "codemirror_mode": {
    "name": "ipython",
    "version": 3
   },
   "file_extension": ".py",
   "mimetype": "text/x-python",
   "name": "python",
   "nbconvert_exporter": "python",
   "pygments_lexer": "ipython3",
   "version": "3.10.9"
  },
  "orig_nbformat": 4,
  "vscode": {
   "interpreter": {
    "hash": "3184bce6234ca0e1d66d018aab6b911e603f565beb1b0e714b691ec63a228c1b"
   }
  }
 },
 "nbformat": 4,
 "nbformat_minor": 2
}
