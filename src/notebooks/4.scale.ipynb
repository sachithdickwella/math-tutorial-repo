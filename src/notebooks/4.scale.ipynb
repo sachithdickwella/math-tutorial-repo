{
 "cells": [
  {
   "cell_type": "code",
   "execution_count": 21,
   "metadata": {
    "collapsed": true
   },
   "outputs": [],
   "source": [
    "import pandas\n",
    "from sklearn.preprocessing import StandardScaler\n",
    "from sklearn import linear_model"
   ]
  },
  {
   "cell_type": "markdown",
   "source": [
    "# Scale\n",
    "\n",
    "When your data has different values, and even different measurement units, it can be difficult to compare them. What is kilograms compared to meters? Or altitude compared to time?\n",
    "\n",
    "The answer to this problem is scaling. We can scale data into new values that are easier to compare.\n",
    "\n",
    "Take a look at the table below, it is the same data set that we used in the [Multiple Regression](#multiple-regression) chapter, but this time the volume column contains values in liters instead of cm3 (1.0 instead of 1000)."
   ],
   "metadata": {
    "collapsed": false
   }
  },
  {
   "cell_type": "code",
   "execution_count": 22,
   "outputs": [
    {
     "data": {
      "text/plain": "           Car       Model  Volume  Weight  CO2\n0       Toyoty        Aygo     1.0     790   99\n1   Mitsubishi  Space Star     1.2    1160   95\n2        Skoda      Citigo     1.0     929   95\n3         Fiat         500     0.9     865   90\n4         Mini      Cooper     1.5    1140  105\n5           VW         Up!     1.0     929  105\n6        Skoda       Fabia     1.4    1109   90\n7     Mercedes     A-Class     1.5    1365   92\n8         Ford      Fiesta     1.5    1112   98\n9         Audi          A1     1.6    1150   99\n10     Hyundai         I20     1.1     980   99\n11      Suzuki       Swift     1.3     990  101\n12        Ford      Fiesta     1.0    1112   99\n13       Honda       Civic     1.6    1252   94\n14      Hundai         I30     1.6    1326   97\n15        Opel       Astra     1.6    1330   97\n16         BMW           1     1.6    1365   99\n17       Mazda           3     2.2    1280  104\n18       Skoda       Rapid     1.6    1119  104\n19        Ford       Focus     2.0    1328  105\n20        Ford      Mondeo     1.6    1584   94\n21        Opel    Insignia     2.0    1428   99\n22    Mercedes     C-Class     2.1    1365   99\n23       Skoda     Octavia     1.6    1415   99\n24       Volvo         S60     2.0    1415   99\n25    Mercedes         CLA     1.5    1465  102\n26        Audi          A4     2.0    1490  104\n27        Audi          A6     2.0    1725  114\n28       Volvo         V70     1.6    1523  109\n29         BMW           5     2.0    1705  114\n30    Mercedes     E-Class     2.1    1605  115\n31       Volvo        XC70     2.0    1746  117\n32        Ford       B-Max     1.6    1235  104\n33         BMW         216     1.6    1390  108\n34        Opel      Zafira     1.6    1405  109\n35    Mercedes         SLK     2.5    1395  120",
      "text/html": "<div>\n<style scoped>\n    .dataframe tbody tr th:only-of-type {\n        vertical-align: middle;\n    }\n\n    .dataframe tbody tr th {\n        vertical-align: top;\n    }\n\n    .dataframe thead th {\n        text-align: right;\n    }\n</style>\n<table border=\"1\" class=\"dataframe\">\n  <thead>\n    <tr style=\"text-align: right;\">\n      <th></th>\n      <th>Car</th>\n      <th>Model</th>\n      <th>Volume</th>\n      <th>Weight</th>\n      <th>CO2</th>\n    </tr>\n  </thead>\n  <tbody>\n    <tr>\n      <th>0</th>\n      <td>Toyoty</td>\n      <td>Aygo</td>\n      <td>1.0</td>\n      <td>790</td>\n      <td>99</td>\n    </tr>\n    <tr>\n      <th>1</th>\n      <td>Mitsubishi</td>\n      <td>Space Star</td>\n      <td>1.2</td>\n      <td>1160</td>\n      <td>95</td>\n    </tr>\n    <tr>\n      <th>2</th>\n      <td>Skoda</td>\n      <td>Citigo</td>\n      <td>1.0</td>\n      <td>929</td>\n      <td>95</td>\n    </tr>\n    <tr>\n      <th>3</th>\n      <td>Fiat</td>\n      <td>500</td>\n      <td>0.9</td>\n      <td>865</td>\n      <td>90</td>\n    </tr>\n    <tr>\n      <th>4</th>\n      <td>Mini</td>\n      <td>Cooper</td>\n      <td>1.5</td>\n      <td>1140</td>\n      <td>105</td>\n    </tr>\n    <tr>\n      <th>5</th>\n      <td>VW</td>\n      <td>Up!</td>\n      <td>1.0</td>\n      <td>929</td>\n      <td>105</td>\n    </tr>\n    <tr>\n      <th>6</th>\n      <td>Skoda</td>\n      <td>Fabia</td>\n      <td>1.4</td>\n      <td>1109</td>\n      <td>90</td>\n    </tr>\n    <tr>\n      <th>7</th>\n      <td>Mercedes</td>\n      <td>A-Class</td>\n      <td>1.5</td>\n      <td>1365</td>\n      <td>92</td>\n    </tr>\n    <tr>\n      <th>8</th>\n      <td>Ford</td>\n      <td>Fiesta</td>\n      <td>1.5</td>\n      <td>1112</td>\n      <td>98</td>\n    </tr>\n    <tr>\n      <th>9</th>\n      <td>Audi</td>\n      <td>A1</td>\n      <td>1.6</td>\n      <td>1150</td>\n      <td>99</td>\n    </tr>\n    <tr>\n      <th>10</th>\n      <td>Hyundai</td>\n      <td>I20</td>\n      <td>1.1</td>\n      <td>980</td>\n      <td>99</td>\n    </tr>\n    <tr>\n      <th>11</th>\n      <td>Suzuki</td>\n      <td>Swift</td>\n      <td>1.3</td>\n      <td>990</td>\n      <td>101</td>\n    </tr>\n    <tr>\n      <th>12</th>\n      <td>Ford</td>\n      <td>Fiesta</td>\n      <td>1.0</td>\n      <td>1112</td>\n      <td>99</td>\n    </tr>\n    <tr>\n      <th>13</th>\n      <td>Honda</td>\n      <td>Civic</td>\n      <td>1.6</td>\n      <td>1252</td>\n      <td>94</td>\n    </tr>\n    <tr>\n      <th>14</th>\n      <td>Hundai</td>\n      <td>I30</td>\n      <td>1.6</td>\n      <td>1326</td>\n      <td>97</td>\n    </tr>\n    <tr>\n      <th>15</th>\n      <td>Opel</td>\n      <td>Astra</td>\n      <td>1.6</td>\n      <td>1330</td>\n      <td>97</td>\n    </tr>\n    <tr>\n      <th>16</th>\n      <td>BMW</td>\n      <td>1</td>\n      <td>1.6</td>\n      <td>1365</td>\n      <td>99</td>\n    </tr>\n    <tr>\n      <th>17</th>\n      <td>Mazda</td>\n      <td>3</td>\n      <td>2.2</td>\n      <td>1280</td>\n      <td>104</td>\n    </tr>\n    <tr>\n      <th>18</th>\n      <td>Skoda</td>\n      <td>Rapid</td>\n      <td>1.6</td>\n      <td>1119</td>\n      <td>104</td>\n    </tr>\n    <tr>\n      <th>19</th>\n      <td>Ford</td>\n      <td>Focus</td>\n      <td>2.0</td>\n      <td>1328</td>\n      <td>105</td>\n    </tr>\n    <tr>\n      <th>20</th>\n      <td>Ford</td>\n      <td>Mondeo</td>\n      <td>1.6</td>\n      <td>1584</td>\n      <td>94</td>\n    </tr>\n    <tr>\n      <th>21</th>\n      <td>Opel</td>\n      <td>Insignia</td>\n      <td>2.0</td>\n      <td>1428</td>\n      <td>99</td>\n    </tr>\n    <tr>\n      <th>22</th>\n      <td>Mercedes</td>\n      <td>C-Class</td>\n      <td>2.1</td>\n      <td>1365</td>\n      <td>99</td>\n    </tr>\n    <tr>\n      <th>23</th>\n      <td>Skoda</td>\n      <td>Octavia</td>\n      <td>1.6</td>\n      <td>1415</td>\n      <td>99</td>\n    </tr>\n    <tr>\n      <th>24</th>\n      <td>Volvo</td>\n      <td>S60</td>\n      <td>2.0</td>\n      <td>1415</td>\n      <td>99</td>\n    </tr>\n    <tr>\n      <th>25</th>\n      <td>Mercedes</td>\n      <td>CLA</td>\n      <td>1.5</td>\n      <td>1465</td>\n      <td>102</td>\n    </tr>\n    <tr>\n      <th>26</th>\n      <td>Audi</td>\n      <td>A4</td>\n      <td>2.0</td>\n      <td>1490</td>\n      <td>104</td>\n    </tr>\n    <tr>\n      <th>27</th>\n      <td>Audi</td>\n      <td>A6</td>\n      <td>2.0</td>\n      <td>1725</td>\n      <td>114</td>\n    </tr>\n    <tr>\n      <th>28</th>\n      <td>Volvo</td>\n      <td>V70</td>\n      <td>1.6</td>\n      <td>1523</td>\n      <td>109</td>\n    </tr>\n    <tr>\n      <th>29</th>\n      <td>BMW</td>\n      <td>5</td>\n      <td>2.0</td>\n      <td>1705</td>\n      <td>114</td>\n    </tr>\n    <tr>\n      <th>30</th>\n      <td>Mercedes</td>\n      <td>E-Class</td>\n      <td>2.1</td>\n      <td>1605</td>\n      <td>115</td>\n    </tr>\n    <tr>\n      <th>31</th>\n      <td>Volvo</td>\n      <td>XC70</td>\n      <td>2.0</td>\n      <td>1746</td>\n      <td>117</td>\n    </tr>\n    <tr>\n      <th>32</th>\n      <td>Ford</td>\n      <td>B-Max</td>\n      <td>1.6</td>\n      <td>1235</td>\n      <td>104</td>\n    </tr>\n    <tr>\n      <th>33</th>\n      <td>BMW</td>\n      <td>216</td>\n      <td>1.6</td>\n      <td>1390</td>\n      <td>108</td>\n    </tr>\n    <tr>\n      <th>34</th>\n      <td>Opel</td>\n      <td>Zafira</td>\n      <td>1.6</td>\n      <td>1405</td>\n      <td>109</td>\n    </tr>\n    <tr>\n      <th>35</th>\n      <td>Mercedes</td>\n      <td>SLK</td>\n      <td>2.5</td>\n      <td>1395</td>\n      <td>120</td>\n    </tr>\n  </tbody>\n</table>\n</div>"
     },
     "execution_count": 22,
     "metadata": {},
     "output_type": "execute_result"
    }
   ],
   "source": [
    "df = pandas.read_csv('../../data-nstd.csv')\n",
    "\n",
    "df"
   ],
   "metadata": {
    "collapsed": false
   }
  },
  {
   "cell_type": "markdown",
   "source": [
    "It can be difficult to compare the volume 1.0 with the weight 790, but if we scale them both into comparable values, we can easily see how much one value is compared to the other.\n",
    "\n",
    "There are different methods for scaling data, in this tutorial we will use a method called standardization.\n",
    "\n",
    "The standardization method uses this formula:\n",
    "<br>\n",
    "$z = (x - u) / s$\n",
    "<br>\n",
    "Where $z$ is the new value, $x$ is the original value, $u$ is the mean and $s$ is the standard deviation.\n",
    "\n",
    "If you take the `Weight` column from the data set above, the first value is `790`, and the scaled value will be:\n",
    "<br>\n",
    "$(790 - 1292.23) / 238.74 = -2.1$\n",
    "<br>\n",
    "If you take the `Volume` column from the data set above, the first value is `1.0`, and the scaled value will be:\n",
    "<br>\n",
    "$(1.0 - 1.61) / 0.38 = -1.59$\n",
    "<br>\n",
    "Now you can compare $-2.1$ with $-1.59$ instead of comparing `790` with `1.0`.\n",
    "\n",
    "You do not have to do this manually, the Python **sklearn** module has a method called `StandardScaler()` which returns a Scaler object with methods for transforming data sets."
   ],
   "metadata": {
    "collapsed": false
   }
  },
  {
   "cell_type": "code",
   "execution_count": 23,
   "outputs": [
    {
     "data": {
      "text/plain": "0      99\n1      95\n2      95\n3      90\n4     105\n5     105\n6      90\n7      92\n8      98\n9      99\n10     99\n11    101\n12     99\n13     94\n14     97\n15     97\n16     99\n17    104\n18    104\n19    105\n20     94\n21     99\n22     99\n23     99\n24     99\n25    102\n26    104\n27    114\n28    109\n29    114\n30    115\n31    117\n32    104\n33    108\n34    109\n35    120\nName: CO2, dtype: int64"
     },
     "execution_count": 23,
     "metadata": {},
     "output_type": "execute_result"
    }
   ],
   "source": [
    "X = df[[ 'Weight', 'Volume' ]]\n",
    "y = df['CO2']\n",
    "\n",
    "y"
   ],
   "metadata": {
    "collapsed": false
   }
  },
  {
   "cell_type": "code",
   "execution_count": 30,
   "outputs": [
    {
     "data": {
      "text/plain": "array([[-2.10389253, -1.59336644],\n       [-0.55407235, -1.07190106],\n       [-1.52166278, -1.59336644],\n       [-1.78973979, -1.85409913],\n       [-0.63784641, -0.28970299],\n       [-1.52166278, -1.59336644],\n       [-0.76769621, -0.55043568],\n       [ 0.3046118 , -0.28970299],\n       [-0.7551301 , -0.28970299],\n       [-0.59595938, -0.0289703 ],\n       [-1.30803892, -1.33263375],\n       [-1.26615189, -0.81116837],\n       [-0.7551301 , -1.59336644],\n       [-0.16871166, -0.0289703 ],\n       [ 0.14125238, -0.0289703 ],\n       [ 0.15800719, -0.0289703 ],\n       [ 0.3046118 , -0.0289703 ],\n       [-0.05142797,  1.53542584],\n       [-0.72580918, -0.0289703 ],\n       [ 0.14962979,  1.01396046],\n       [ 1.2219378 , -0.0289703 ],\n       [ 0.5685001 ,  1.01396046],\n       [ 0.3046118 ,  1.27469315],\n       [ 0.51404696, -0.0289703 ],\n       [ 0.51404696,  1.01396046],\n       [ 0.72348212, -0.28970299],\n       [ 0.8281997 ,  1.01396046],\n       [ 1.81254495,  1.01396046],\n       [ 0.96642691, -0.0289703 ],\n       [ 1.72877089,  1.01396046],\n       [ 1.30990057,  1.27469315],\n       [ 1.90050772,  1.01396046],\n       [-0.23991961, -0.0289703 ],\n       [ 0.40932938, -0.0289703 ],\n       [ 0.47215993, -0.0289703 ],\n       [ 0.4302729 ,  2.31762392]])"
     },
     "execution_count": 30,
     "metadata": {},
     "output_type": "execute_result"
    }
   ],
   "source": [
    "scale = StandardScaler()\n",
    "scaledX = scale.fit_transform(X.values)\n",
    "\n",
    "scaledX"
   ],
   "metadata": {
    "collapsed": false
   }
  },
  {
   "cell_type": "markdown",
   "source": [
    "> **Note:** that the first two values are -2.1 and -1.59, which corresponds to our calculations."
   ],
   "metadata": {
    "collapsed": false
   }
  },
  {
   "cell_type": "markdown",
   "source": [
    "### Predict $CO_2$ Values\n",
    "\n",
    "The task in the **Multiple Regression** chapter was to predict the $CO_2$ emission from a car when you only knew its weight and volume."
   ],
   "metadata": {
    "collapsed": false
   }
  },
  {
   "cell_type": "markdown",
   "source": [
    "> **When the data set is scaled, you will have to use the scale when you predict values:**"
   ],
   "metadata": {
    "collapsed": false
   }
  },
  {
   "cell_type": "code",
   "execution_count": 31,
   "outputs": [
    {
     "data": {
      "text/plain": "LinearRegression()",
      "text/html": "<style>#sk-container-id-5 {color: black;background-color: white;}#sk-container-id-5 pre{padding: 0;}#sk-container-id-5 div.sk-toggleable {background-color: white;}#sk-container-id-5 label.sk-toggleable__label {cursor: pointer;display: block;width: 100%;margin-bottom: 0;padding: 0.3em;box-sizing: border-box;text-align: center;}#sk-container-id-5 label.sk-toggleable__label-arrow:before {content: \"▸\";float: left;margin-right: 0.25em;color: #696969;}#sk-container-id-5 label.sk-toggleable__label-arrow:hover:before {color: black;}#sk-container-id-5 div.sk-estimator:hover label.sk-toggleable__label-arrow:before {color: black;}#sk-container-id-5 div.sk-toggleable__content {max-height: 0;max-width: 0;overflow: hidden;text-align: left;background-color: #f0f8ff;}#sk-container-id-5 div.sk-toggleable__content pre {margin: 0.2em;color: black;border-radius: 0.25em;background-color: #f0f8ff;}#sk-container-id-5 input.sk-toggleable__control:checked~div.sk-toggleable__content {max-height: 200px;max-width: 100%;overflow: auto;}#sk-container-id-5 input.sk-toggleable__control:checked~label.sk-toggleable__label-arrow:before {content: \"▾\";}#sk-container-id-5 div.sk-estimator input.sk-toggleable__control:checked~label.sk-toggleable__label {background-color: #d4ebff;}#sk-container-id-5 div.sk-label input.sk-toggleable__control:checked~label.sk-toggleable__label {background-color: #d4ebff;}#sk-container-id-5 input.sk-hidden--visually {border: 0;clip: rect(1px 1px 1px 1px);clip: rect(1px, 1px, 1px, 1px);height: 1px;margin: -1px;overflow: hidden;padding: 0;position: absolute;width: 1px;}#sk-container-id-5 div.sk-estimator {font-family: monospace;background-color: #f0f8ff;border: 1px dotted black;border-radius: 0.25em;box-sizing: border-box;margin-bottom: 0.5em;}#sk-container-id-5 div.sk-estimator:hover {background-color: #d4ebff;}#sk-container-id-5 div.sk-parallel-item::after {content: \"\";width: 100%;border-bottom: 1px solid gray;flex-grow: 1;}#sk-container-id-5 div.sk-label:hover label.sk-toggleable__label {background-color: #d4ebff;}#sk-container-id-5 div.sk-serial::before {content: \"\";position: absolute;border-left: 1px solid gray;box-sizing: border-box;top: 0;bottom: 0;left: 50%;z-index: 0;}#sk-container-id-5 div.sk-serial {display: flex;flex-direction: column;align-items: center;background-color: white;padding-right: 0.2em;padding-left: 0.2em;position: relative;}#sk-container-id-5 div.sk-item {position: relative;z-index: 1;}#sk-container-id-5 div.sk-parallel {display: flex;align-items: stretch;justify-content: center;background-color: white;position: relative;}#sk-container-id-5 div.sk-item::before, #sk-container-id-5 div.sk-parallel-item::before {content: \"\";position: absolute;border-left: 1px solid gray;box-sizing: border-box;top: 0;bottom: 0;left: 50%;z-index: -1;}#sk-container-id-5 div.sk-parallel-item {display: flex;flex-direction: column;z-index: 1;position: relative;background-color: white;}#sk-container-id-5 div.sk-parallel-item:first-child::after {align-self: flex-end;width: 50%;}#sk-container-id-5 div.sk-parallel-item:last-child::after {align-self: flex-start;width: 50%;}#sk-container-id-5 div.sk-parallel-item:only-child::after {width: 0;}#sk-container-id-5 div.sk-dashed-wrapped {border: 1px dashed gray;margin: 0 0.4em 0.5em 0.4em;box-sizing: border-box;padding-bottom: 0.4em;background-color: white;}#sk-container-id-5 div.sk-label label {font-family: monospace;font-weight: bold;display: inline-block;line-height: 1.2em;}#sk-container-id-5 div.sk-label-container {text-align: center;}#sk-container-id-5 div.sk-container {/* jupyter's `normalize.less` sets `[hidden] { display: none; }` but bootstrap.min.css set `[hidden] { display: none !important; }` so we also need the `!important` here to be able to override the default hidden behavior on the sphinx rendered scikit-learn.org. See: https://github.com/scikit-learn/scikit-learn/issues/21755 */display: inline-block !important;position: relative;}#sk-container-id-5 div.sk-text-repr-fallback {display: none;}</style><div id=\"sk-container-id-5\" class=\"sk-top-container\"><div class=\"sk-text-repr-fallback\"><pre>LinearRegression()</pre><b>In a Jupyter environment, please rerun this cell to show the HTML representation or trust the notebook. <br />On GitHub, the HTML representation is unable to render, please try loading this page with nbviewer.org.</b></div><div class=\"sk-container\" hidden><div class=\"sk-item\"><div class=\"sk-estimator sk-toggleable\"><input class=\"sk-toggleable__control sk-hidden--visually\" id=\"sk-estimator-id-5\" type=\"checkbox\" checked><label for=\"sk-estimator-id-5\" class=\"sk-toggleable__label sk-toggleable__label-arrow\">LinearRegression</label><div class=\"sk-toggleable__content\"><pre>LinearRegression()</pre></div></div></div></div></div>"
     },
     "execution_count": 31,
     "metadata": {},
     "output_type": "execute_result"
    }
   ],
   "source": [
    "regr = linear_model.LinearRegression()\n",
    "regr.fit(scaledX, y.values)"
   ],
   "metadata": {
    "collapsed": false
   }
  },
  {
   "cell_type": "code",
   "execution_count": 32,
   "outputs": [],
   "source": [
    "scaled = scale.transform([[2300, 1.3]])"
   ],
   "metadata": {
    "collapsed": false
   }
  },
  {
   "cell_type": "code",
   "execution_count": 37,
   "outputs": [
    {
     "data": {
      "text/plain": "107.20873279892223"
     },
     "execution_count": 37,
     "metadata": {},
     "output_type": "execute_result"
    }
   ],
   "source": [
    "predictCO2 = regr.predict(scaled)\n",
    "predictCO2[0]"
   ],
   "metadata": {
    "collapsed": false
   }
  },
  {
   "cell_type": "code",
   "execution_count": null,
   "outputs": [],
   "source": [],
   "metadata": {
    "collapsed": false
   }
  }
 ],
 "metadata": {
  "kernelspec": {
   "display_name": "Python 3",
   "language": "python",
   "name": "python3"
  },
  "language_info": {
   "codemirror_mode": {
    "name": "ipython",
    "version": 2
   },
   "file_extension": ".py",
   "mimetype": "text/x-python",
   "name": "python",
   "nbconvert_exporter": "python",
   "pygments_lexer": "ipython2",
   "version": "2.7.6"
  }
 },
 "nbformat": 4,
 "nbformat_minor": 0
}
