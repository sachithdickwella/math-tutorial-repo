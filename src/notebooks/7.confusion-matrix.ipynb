{
 "cells": [
  {
   "cell_type": "code",
   "execution_count": 4,
   "metadata": {},
   "outputs": [],
   "source": [
    "import numpy as np\n",
    "import matplotlib.pyplot as plt\n",
    "from sklearn import metrics"
   ]
  },
  {
   "attachments": {},
   "cell_type": "markdown",
   "metadata": {},
   "source": [
    "# Confusion Matrix\n",
    "\n",
    "It is a table that is used in classification problems to assess where errors in the model were made.\n",
    "\n",
    "The rows represent the actual classes the outcomes should have been. While the columns represent the predictions we have made. Using this table it is easy to see which predictions are wrong.\n",
    "\n",
    "\n",
    "## Create Confusion Matrix"
   ]
  },
  {
   "cell_type": "code",
   "execution_count": 18,
   "metadata": {},
   "outputs": [],
   "source": [
    "actual = np.random.binomial(1, 0.9, 1000)\n",
    "predicted = np.random.binomial(1, 0.9, 1000)"
   ]
  },
  {
   "cell_type": "code",
   "execution_count": 19,
   "metadata": {},
   "outputs": [
    {
     "data": {
      "text/plain": [
       "array([[ 10,  95],\n",
       "       [ 96, 799]])"
      ]
     },
     "execution_count": 19,
     "metadata": {},
     "output_type": "execute_result"
    }
   ],
   "source": [
    "cm = metrics.confusion_matrix(actual, predicted)\n",
    "cm"
   ]
  },
  {
   "cell_type": "code",
   "execution_count": 20,
   "metadata": {},
   "outputs": [
    {
     "data": {
      "text/plain": [
       "<sklearn.metrics._plot.confusion_matrix.ConfusionMatrixDisplay at 0x7f83e8e58af0>"
      ]
     },
     "execution_count": 20,
     "metadata": {},
     "output_type": "execute_result"
    }
   ],
   "source": [
    "cm_display = metrics.ConfusionMatrixDisplay(confusion_matrix=cm, display_labels=[False, True])\n",
    "cm_display"
   ]
  },
  {
   "cell_type": "code",
   "execution_count": 21,
   "metadata": {},
   "outputs": [
    {
     "data": {
      "image/png": "[encoded data removed]",
      "text/plain": [
       "<Figure size 640x480 with 2 Axes>"
      ]
     },
     "metadata": {},
     "output_type": "display_data"
    }
   ],
   "source": [
    "cm_display.plot()\n",
    "plt.show()"
   ]
  },
  {
   "attachments": {},
   "cell_type": "markdown",
   "metadata": {},
   "source": [
    "### Results Explained\n",
    "\n",
    "The Confusion Matrix created has four different quadrants:\n",
    "\n",
    "- True Negative (Top-Left Quadrant)\n",
    "- False Positive (Top-Right Quadrant)\n",
    "- False Negative (Bottom-Left Quadrant)\n",
    "- True Positive (Bottom-Right Quadrant)\n",
    "- True means that the values were accurately predicted, False means that there was an error or wrong prediction.\n",
    "\n",
    "Now that we have made a Confusion Matrix, we can calculate different measures to quantify the quality of the model. First, lets look at Accuracy."
   ]
  },
  {
   "attachments": {},
   "cell_type": "markdown",
   "metadata": {},
   "source": [
    "## Created Metrics\n",
    "The matrix provides us with many useful metrics that help us to evaluate out classification model.\n",
    "\n",
    "The different measures include: Accuracy, Precision, Sensitivity (Recall), Specificity, and the F-score, explained below."
   ]
  },
  {
   "attachments": {},
   "cell_type": "markdown",
   "metadata": {},
   "source": [
    "## Accuracy\n",
    "Accuracy measures how often the model is correct.\n",
    "\n",
    "### How to Calculate\n",
    "`(True Positive + True Negative) / Total Predictions`"
   ]
  },
  {
   "cell_type": "code",
   "execution_count": 23,
   "metadata": {},
   "outputs": [
    {
     "data": {
      "text/plain": [
       "0.809"
      ]
     },
     "execution_count": 23,
     "metadata": {},
     "output_type": "execute_result"
    }
   ],
   "source": [
    "accuracy = metrics.accuracy_score(actual, predicted)\n",
    "accuracy"
   ]
  },
  {
   "attachments": {},
   "cell_type": "markdown",
   "metadata": {},
   "source": [
    "## Precision\n",
    "Of the positives predicted, what percentage is truly positive?\n",
    "\n",
    "### How to Calculate\n",
    "`True Positive / (True Positive + False Positive)`\n",
    "\n",
    "Precision does not evaluate the correctly predicted negative cases:"
   ]
  },
  {
   "cell_type": "code",
   "execution_count": 22,
   "metadata": {},
   "outputs": [
    {
     "data": {
      "text/plain": [
       "0.8937360178970917"
      ]
     },
     "execution_count": 22,
     "metadata": {},
     "output_type": "execute_result"
    }
   ],
   "source": [
    "precision = metrics.precision_score(actual, predicted)\n",
    "precision"
   ]
  },
  {
   "attachments": {},
   "cell_type": "markdown",
   "metadata": {},
   "source": [
    "## Sensitivity (Recall)\n",
    "Of all the positive cases, what percentage are predicted positive?\n",
    "\n",
    "Sensitivity (sometimes called `Recall`) measures how good the model is at predicting positives.\n",
    "\n",
    "This means it looks at true positives and false negatives (which are positives that have been incorrectly predicted as negative).\n",
    "\n",
    "### How to Calculate\n",
    "`True Positive / (True Positive + False Negative)`\n",
    "\n",
    "Sensitivity is good at understanding how well the model predicts something is positive:\n",
    "\n"
   ]
  },
  {
   "cell_type": "code",
   "execution_count": 24,
   "metadata": {},
   "outputs": [
    {
     "data": {
      "text/plain": [
       "0.8927374301675978"
      ]
     },
     "execution_count": 24,
     "metadata": {},
     "output_type": "execute_result"
    }
   ],
   "source": [
    "recall = metrics.recall_score(actual, predicted)\n",
    "recall"
   ]
  },
  {
   "attachments": {},
   "cell_type": "markdown",
   "metadata": {},
   "source": [
    "## Specificity\n",
    "How well the model is at prediciting negative results?\n",
    "\n",
    "Specificity is similar to sensitivity, but looks at it from the persepctive of negative results.\n",
    "\n",
    "### How to Calculate\n",
    "`True Negative / (True Negative + False Positive)`\n",
    "\n",
    "Since it is just the opposite of Recall, we use the recall_score function, taking the opposite position label:"
   ]
  },
  {
   "cell_type": "code",
   "execution_count": 25,
   "metadata": {},
   "outputs": [
    {
     "data": {
      "text/plain": [
       "0.09523809523809523"
      ]
     },
     "execution_count": 25,
     "metadata": {},
     "output_type": "execute_result"
    }
   ],
   "source": [
    "specificity = metrics.recall_score(actual, predicted, pos_label=0)\n",
    "specificity"
   ]
  },
  {
   "attachments": {},
   "cell_type": "markdown",
   "metadata": {},
   "source": [
    "## F-score\n",
    "F-score is the \"harmonic mean\" of precision and sensitivity.\n",
    "\n",
    "It considers both false positive and false negative cases and is good for imbalanced datasets.\n",
    "\n",
    "### How to Calculate\n",
    "`2 * ((Precision * Sensitivity) / (Precision + Sensitivity))`\n",
    "\n",
    "This score does not take into consideration the True Negative values:"
   ]
  },
  {
   "cell_type": "code",
   "execution_count": 26,
   "metadata": {},
   "outputs": [
    {
     "data": {
      "text/plain": [
       "0.893236444941308"
      ]
     },
     "execution_count": 26,
     "metadata": {},
     "output_type": "execute_result"
    }
   ],
   "source": [
    "f1_score = metrics.f1_score(actual, predicted)\n",
    "f1_score"
   ]
  },
  {
   "cell_type": "code",
   "execution_count": 27,
   "metadata": {},
   "outputs": [
    {
     "name": "stdout",
     "output_type": "stream",
     "text": [
      "{'Accuracy': 0.809, 'Precision': 0.8937360178970917, 'Sensitivity_recall': 0.8927374301675978, 'Specificity': 0.09523809523809523, 'F1_score': 0.893236444941308}\n"
     ]
    }
   ],
   "source": [
    "print({\"Accuracy\":accuracy, \"Precision\":precision, \"Sensitivity_recall\":recall, \"Specificity\":specificity, \"F1_score\":f1_score})"
   ]
  },
  {
   "cell_type": "code",
   "execution_count": null,
   "metadata": {},
   "outputs": [],
   "source": []
  }
 ],
 "metadata": {
  "kernelspec": {
   "display_name": "pytorchdev",
   "language": "python",
   "name": "python3"
  },
  "language_info": {
   "codemirror_mode": {
    "name": "ipython",
    "version": 3
   },
   "file_extension": ".py",
   "mimetype": "text/x-python",
   "name": "python",
   "nbconvert_exporter": "python",
   "pygments_lexer": "ipython3",
   "version": "3.10.9"
  },
  "orig_nbformat": 4,
  "vscode": {
   "interpreter": {
    "hash": "cb17a6199b8c2370569b0741fb68ec56d96115e0bea5a033d0cb291eb7cc89ae"
   }
  }
 },
 "nbformat": 4,
 "nbformat_minor": 2
}
